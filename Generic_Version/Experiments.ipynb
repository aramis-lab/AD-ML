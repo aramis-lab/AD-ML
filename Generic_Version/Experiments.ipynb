{
 "cells": [
  {
   "cell_type": "markdown",
   "metadata": {},
   "source": [
    "# Introduction to classification with Clinica:\n",
    "## Classifying normal subjects versus Alzheimer’s disease patients from neuroimaging and clinical data from ADNI database\n",
    "### - T1 MRI all-voxels SVM classification\n",
    "### - FDG PET region based Logistic regression classification\n",
    "### - Clinical data Random forest classification"
   ]
  },
  {
   "cell_type": "markdown",
   "metadata": {},
   "source": [
    "## Prerequisites\n",
    "\n",
    "The original [ADNI](http://adni.loni.usc.edu/) dataset should be downloaded without further touch.\n",
    "Set the paths to where the data is stored on your computer:"
   ]
  },
  {
   "cell_type": "code",
   "execution_count": null,
   "metadata": {},
   "outputs": [],
   "source": [
    "!export ADNI_PATH=\"~/Aramis/Data/ADNI\"\n",
    "!export OUT_PATH=\"~/Aramis/Data/OUTPUT\"\n",
    "!export WORKING_DIR=\"~/Aramis/Data/tmp/WORKING_DIR\""
   ]
  },
  {
   "cell_type": "markdown",
   "metadata": {},
   "source": [
    "## 1. Convert datasets into BIDS format"
   ]
  },
  {
   "cell_type": "code",
   "execution_count": null,
   "metadata": {},
   "outputs": [],
   "source": [
    "!clinica convert adni-to-bids $ADNI_PATH/IMAGES $ADNI_PATH/CLINICAL_DATA $OUT_PATH/ADNI/BIDS -m T1 PET_FDG"
   ]
  },
  {
   "cell_type": "markdown",
   "metadata": {},
   "source": [
    "Define folders for the next steps:"
   ]
  },
  {
   "cell_type": "code",
   "execution_count": null,
   "metadata": {},
   "outputs": [],
   "source": [
    "import os\n",
    "\n",
    "adnimerge = 'PATH/TO/ADNIMERGE.csv'\n",
    "\n",
    "adni_bids = os.path.join(os.environ.get('OUT_PATH'), 'ADNI/BIDS')\n",
    "adni_tsv_dir = os.path.join(os.environ.get('OUT_PATH'), 'ADNI/TSV')\n",
    "adni_caps_dir = os.path.join(os.environ.get('OUT_PATH'), 'ADNI/CAPS')\n",
    "adni_output_dir = os.path.join(os.environ.get('OUT_PATH'), 'ADNI/OUTPUT')\n",
    "\n",
    "working_dir = os.environ.get('WORKING_DIR')\n"
   ]
  },
  {
   "cell_type": "markdown",
   "metadata": {},
   "source": [
    "## 2. Create the subjects lists\n",
    "Choose the subjects at baseline with available T1 MRI for ADNI, AIBL and OASIS, and with FDG-PET for ADNI:"
   ]
  },
  {
   "cell_type": "code",
   "execution_count": null,
   "metadata": {},
   "outputs": [],
   "source": [
    "from Code.subjects_lists.subject_lists import run_subjects_lists\n",
    "\n",
    "### ADNI dataset\n",
    "database = 'ADNI'\n",
    "\n",
    "# For T1\n",
    "subjects_list = 'T1'\n",
    "run_subjects_lists(adni_bids, adni_tsv_dir, database, subjects_list, adnimerge)\n",
    "\n",
    "# For FDG-PET\n",
    "subjects_list = 'PET'\n",
    "run_subjects_lists(adni_bids, adni_tsv_dir, database, subjects_list, adnimerge)\n"
   ]
  },
  {
   "cell_type": "markdown",
   "metadata": {},
   "source": [
    "## 3. Create demographic tables information\n",
    "Get demographic information of the different populations:"
   ]
  },
  {
   "cell_type": "code",
   "execution_count": null,
   "metadata": {},
   "outputs": [],
   "source": [
    "from Code.subjects_lists.lists_stats import run_lists_stats\n",
    "\n",
    "### ADNI dataset\n",
    "database = 'ADNI'\n",
    "\n",
    "# For T1\n",
    "subjects_list = 'T1'\n",
    "run_lists_stats(adni_bids, adni_tsv_dir, database, subjects_list, adnimerge)\n",
    "\n",
    "# For FDG-PET\n",
    "subjects_list = 'PET'\n",
    "run_lists_stats(adni_bids, adni_tsv_dir, database, subjects_list, adnimerge)\n"
   ]
  },
  {
   "cell_type": "markdown",
   "metadata": {},
   "source": [
    "## 4. Run Clinica image processing pipelines\n",
    "We make use of pipelines integrated into Clinica software"
   ]
  },
  {
   "cell_type": "code",
   "execution_count": null,
   "metadata": {},
   "outputs": [],
   "source": [
    "### ADNI T1\n",
    "# Tissue segmentation\n",
    "# Group template creation\n",
    "# Registration to MNI space\n",
    "# Parcellation into anatomical regions\n",
    "!clinica run t1-volume $OUT_PATH/ADNI/BIDS $OUT_PATH/ADNI/CAPS/ ADNIbl -tsv /SUBJECTS_DIR/subjects_T1_PET.tsv -wd $WORKING_DIR -np 8\n",
    "\n",
    "\n",
    "### ADNI FDG-PET\n",
    "# Registration to T1 space\n",
    "# Partial value correction (PVC) (optional)\n",
    "# Registration to MNI space\n",
    "# Intensity normalization to SUVR\n",
    "# Parcellation into anatomical regions\n",
    "!clinica run pet-volume $OUT_PATH/ADNI/BIDS $OUT_PATH/ADNI/CAPS/ ADNIbl -tsv $OUT_PATH/ADNI/TSV/subjects_T1_PET.tsv -pet_tracer fdg -wd $WORKING_DIR -np 8\n"
   ]
  },
  {
   "cell_type": "markdown",
   "metadata": {},
   "source": [
    "## 5. Run classification tasks on imaging data\n",
    "### Classifications using T1-weighted MRI and FDG-PET images from ADNI dataset"
   ]
  },
  {
   "cell_type": "code",
   "execution_count": null,
   "metadata": {},
   "outputs": [],
   "source": [
    "from os import path\n",
    "import clinica.pipelines.machine_learning.ml_workflows as ml_wf\n",
    "\n",
    "n_iterations = 250\n",
    "n_threads = 8\n",
    "\n",
    "group_id = 'ADNIbl'\n",
    "subjects_visits_tsv = path.join(adni_tsv_dir, 'CN_vs_AD_subjects_sessions.tsv')\n",
    "diagnoses_tsv = path.join(adni_tsv_dir, 'CN_vs_AD_diagnoses.tsv')\n"
   ]
  },
  {
   "cell_type": "markdown",
   "metadata": {},
   "source": [
    "### Voxel based SVM classification for T1 images with 8mm of smoothing"
   ]
  },
  {
   "cell_type": "code",
   "execution_count": null,
   "metadata": {},
   "outputs": [],
   "source": [
    "classification_dir = path.join(adni_output_dir, 'T1', 'voxel_based', 'linear_svm', 'CN_vs_AD')\n",
    "if not path.exists(classification_dir):\n",
    "    os.makedirs(classification_dir)\n",
    "\n",
    "image_type = 'T1'\n",
    "fwhm = 8\n",
    "\n",
    "wf = ml_wf.VoxelBasedRepHoldOutDualSVM(adni_caps_dir,\n",
    "                                       subjects_visits_tsv,\n",
    "                                       diagnoses_tsv,\n",
    "                                       group_id,\n",
    "                                       image_type,\n",
    "                                       classification_dir,\n",
    "                                       fwhm=fwhm,\n",
    "                                       n_iterations=n_iterations,\n",
    "                                       n_threads=n_threads)\n",
    "\n",
    "print(\"Running %s\" % classification_dir)\n",
    "wf.run()\n"
   ]
  },
  {
   "cell_type": "markdown",
   "metadata": {},
   "source": [
    "### Region based SVM classification for FDG PET images using AAL2 atlas"
   ]
  },
  {
   "cell_type": "code",
   "execution_count": null,
   "metadata": {},
   "outputs": [],
   "source": [
    "classification_dir = path.join(adni_output_dir, 'fdg', 'region_based', 'logistic_reg', 'CN_vs_AD')\n",
    "if not path.exists(classification_dir):\n",
    "    os.makedirs(classification_dir)\n",
    "\n",
    "image_type = 'fdg'\n",
    "atlas = 'AAL2'\n",
    "\n",
    "wf = ml_wf.RegionBasedRepHoldOutLogisticRegression(adni_caps_dir,\n",
    "                                                   subjects_visits_tsv,\n",
    "                                                   diagnoses_tsv,\n",
    "                                                   group_id,\n",
    "                                                   image_type,\n",
    "                                                   atlas,\n",
    "                                                   classification_dir,\n",
    "                                                   n_iterations=n_iterations,\n",
    "                                                   n_threads=n_threads)\n",
    "print(\"Running %s\" % classification_dir)\n",
    "wf.run()\n"
   ]
  },
  {
   "cell_type": "markdown",
   "metadata": {},
   "source": [
    "## 6. Preparing clinical data\n",
    "\n",
    "Data from different sources (clinical data from BIDS and ADNIMERGE data are joined into one file (`CN_vs_AD_clinical_data.tsv`)"
   ]
  },
  {
   "cell_type": "code",
   "execution_count": null,
   "metadata": {},
   "outputs": [],
   "source": [
    "import pandas as pd\n",
    "from os import path\n",
    "\n",
    "# We will collect the clinical data for a list of subjects. \n",
    "# We assume file contains 'participant_id', 'session_id' and 'diagnosis' fields\n",
    "diagnoses_tsv = path.join(adni_tsv_dir, 'CN_vs_AD_diagnoses.tsv')\n",
    "subj_sessions = pd.read_csv(diagnoses_tsv, sep='\\t')\n",
    "\n",
    "# Examples of columns that can be used from ADNI BIDS:\n",
    "participant_columns = [\"sex\", \"education_level\", \"marital_status\", \"apoe4\", \"apoe_gen1\", \"apoe_gen2\"]\n",
    "\n",
    "session_columns = [\"age\",\n",
    "                   # Cognitive measures\n",
    "                   \"MMSE\", \"cdr_sb\", \"cdr_global\", \"adas11\", \"adas13\",\n",
    "                   \"adas_memory\", \"adas_language\", \"adas_concentration\", \"adas_praxis\", \"ravlt_immediate\", \"moca\",\n",
    "                   \"TMT_A\", \"TMT_B\", \"dsst\", \"logmem_delay\", \"logmem_imm\",\n",
    "                   # T1 measures\n",
    "                   \"adni_ventricles_vol\", \"adni_hippocampus_vol\", \"adni_brain_vol\", \"adni_entorhinal_vol\",\n",
    "                   \"adni_fusiform_vol\", \"adni_midtemp_vol\", \"adni_icv\",\n",
    "                   # PET measures\n",
    "                   \"adni_fdg\", \"adni_pib\", \"adni_av45\",\n",
    "                   # CSF measures\n",
    "                   \"adni_abeta\", \"adni_tau\", \"adni_ptau\"]\n",
    "\n",
    "participant_series = {}\n",
    "session_series = {}\n",
    "for col in participant_columns:\n",
    "    participant_series[col] = []\n",
    "for col in session_columns:\n",
    "    session_series[col] = []\n",
    "\n",
    "participants_tsv = pd.read_csv(path.join(adni_bids, \"participants.tsv\"), sep='\\t')\n",
    "\n",
    "# We collect the specified columns data\n",
    "for row in subj_sessions.iterrows():\n",
    "    subj_sess = row[1]\n",
    "    \n",
    "    # From the participants.tsv file for each subject\n",
    "    selected_participant = participants_tsv[(participants_tsv.participant_id == subj_sess.participant_id)].iloc[0]\n",
    "    for col in participant_columns:\n",
    "        participant_series[col].append(selected_participant[col])\n",
    "\n",
    "    # From the different sessions.tsv files for each subject and session\n",
    "    session_tsv = pd.read_csv(path.join(adni_bids, subj_sess.participant_id,\n",
    "                                        subj_sess.participant_id + \"_sessions.tsv\"), sep='\\t')\n",
    "    selected_session = session_tsv[(session_tsv.session_id == subj_sess.session_id)].iloc[0]\n",
    "    for col in session_columns:\n",
    "        session_series[col].append(selected_session[col])\n",
    "\n",
    "# We add collected information to subjects .tsv\n",
    "for col in participant_columns:\n",
    "    subj_sessions.loc[:, col] = pd.Series(participant_series[col], index=subj_sessions.index)\n",
    "\n",
    "for col in session_columns:\n",
    "    subj_sessions.loc[:, col] = pd.Series(session_series[col], index=subj_sessions.index)\n",
    "\n",
    "# We replace gender information that is text by numeric values\n",
    "subj_sessions.loc[subj_sessions[subj_sessions.sex == 'F'].index, 'sex'] = 1\n",
    "subj_sessions.loc[subj_sessions[subj_sessions.sex == 'M'].index, 'sex'] = 0\n",
    "\n",
    "clinical_dir = path.join(adni_tsv_dir, 'clinical_data')\n",
    "\n",
    "if not path.exists(clinical_dir):\n",
    "    os.makedirs(clinical_dir)\n",
    "    \n",
    "subj_sessions.to_csv(path.join(clinical_dir, 'CN_vs_AD_clinical_data.tsv'), sep='\\t', index=False)\n"
   ]
  },
  {
   "cell_type": "markdown",
   "metadata": {},
   "source": [
    "### Filtering data according to columns that are going to be used as input to classification\n",
    "\n",
    "A population is determined by data availability, and a separated data input file is created.\n"
   ]
  },
  {
   "cell_type": "code",
   "execution_count": null,
   "metadata": {},
   "outputs": [],
   "source": [
    "import pandas as pd\n",
    "from os import path\n",
    "\n",
    "subj_sessions = pd.read_csv(path.join(clinical_dir, 'CN_vs_AD_clinical_data.tsv'), sep='\\t')\n",
    "\n",
    "# In our model we will use as input: \n",
    "# \"sex\", \"education_level\", \"apoe4\", \"MMSE\", \"cdr_sb\", \"adas_memory\", \n",
    "# \"adas_language\", \"adas_concentration\", \"adas_praxis\", \"ravlt_immediate\"\n",
    "\n",
    "# We select the population for which there are not missing values for the desired fields\n",
    "model_1 = subj_sessions[~subj_sessions.sex.isnull() &\n",
    "                        ~subj_sessions.education_level.isnull() &\n",
    "                        ~subj_sessions.apoe4.isnull() &\n",
    "                        ~subj_sessions.MMSE.isnull() &\n",
    "                        ~subj_sessions.cdr_sb.isnull() &\n",
    "                        ~subj_sessions.adas_memory.isnull() &\n",
    "                        ~subj_sessions.adas_language.isnull() &\n",
    "                        ~subj_sessions.adas_concentration.isnull() &\n",
    "                        ~subj_sessions.adas_praxis.isnull() &\n",
    "                        ~subj_sessions.ravlt_immediate.isnull()]\n",
    "\n",
    "model_1.to_csv(path.join(adni_tsv_dir, 'clinical_data', 'input_models', 'CN_vs_AD_model_1.tsv'), sep='\\t', index=False)\n"
   ]
  },
  {
   "cell_type": "markdown",
   "metadata": {},
   "source": [
    "## 7. Run classification tasks on clinical data\n",
    "### Random forest classification using demographic data and cognitive tests from ADNI dataset"
   ]
  },
  {
   "cell_type": "code",
   "execution_count": null,
   "metadata": {},
   "outputs": [],
   "source": [
    "from os import path\n",
    "import clinica.pipelines.machine_learning.ml_workflows as ml_wf\n",
    "\n",
    "n_iterations = 250\n",
    "n_threads = 8\n",
    "\n",
    "data_tsv = path.join(adni_tsv_dir, 'clinical_data', 'input_models', 'CN_vs_AD_model_1.tsv')\n",
    "\n",
    "classification_dir = path.join(adni_output_dir, 'clinical_data', 'random_forest', 'CN_vs_AD')\n",
    "if not path.exists(classification_dir):\n",
    "    os.makedirs(classification_dir)\n",
    "\n",
    "columns = [\"sex\", \"education_level\", \"apoe4\", \"MMSE\", \"cdr_sb\", \"adas_memory\", \n",
    "           \"adas_language\", \"adas_concentration\", \"adas_praxis\", \"ravlt_immediate\"]\n",
    "\n",
    "wf = ml_wf.TsvRepHoldOutRandomForest(data_tsv,\n",
    "                                     columns,\n",
    "                                     classification_dir,\n",
    "                                     n_threads=n_threads,\n",
    "                                     n_iterations=n_iterations,\n",
    "                                     inner_cv=True)\n",
    "print(\"Running %s\" % classification_dir)\n",
    "wf.run()\n"
   ]
  }
 ],
 "metadata": {
  "kernelspec": {
   "display_name": "Python 3",
   "language": "python",
   "name": "python3"
  },
  "language_info": {
   "codemirror_mode": {
    "name": "ipython",
    "version": 3
   },
   "file_extension": ".py",
   "mimetype": "text/x-python",
   "name": "python",
   "nbconvert_exporter": "python",
   "pygments_lexer": "ipython3",
   "version": "3.6.0"
  }
 },
 "nbformat": 4,
 "nbformat_minor": 2
}
